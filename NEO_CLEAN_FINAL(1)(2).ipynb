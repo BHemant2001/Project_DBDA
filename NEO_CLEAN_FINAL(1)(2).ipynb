{
 "cells": [
  {
   "cell_type": "code",
   "execution_count": 1,
   "id": "469b829a",
   "metadata": {},
   "outputs": [],
   "source": [
    "import os\n",
    "import sys\n",
    "os.environ[\"SPARK_HOME\"] = \"/home/talentum/spark\"\n",
    "os.environ[\"PYLIB\"] = os.environ[\"SPARK_HOME\"] + \"/python/lib\"\n",
    "# In below two lines, use /usr/bin/python2.7 if you want to use Python 2\n",
    "os.environ[\"PYSPARK_PYTHON\"] = \"/usr/bin/python3.6\" \n",
    "os.environ[\"PYSPARK_DRIVER_PYTHON\"] = \"/usr/bin/python3\"\n",
    "sys.path.insert(0, os.environ[\"PYLIB\"] +\"/py4j-0.10.7-src.zip\")\n",
    "sys.path.insert(0, os.environ[\"PYLIB\"] +\"/pyspark.zip\")\n",
    "\n",
    "# NOTE: Whichever package you want mention here.\n",
    "# os.environ['PYSPARK_SUBMIT_ARGS'] = '--packages com.databricks:spark-xml_2.11:0.6.0 pyspark-shell' \n",
    "# os.environ['PYSPARK_SUBMIT_ARGS'] = '--packages org.apache.spark:spark-avro_2.11:2.4.0 pyspark-shell'\n",
    "os.environ['PYSPARK_SUBMIT_ARGS'] = '--packages com.databricks:spark-xml_2.11:0.6.0,org.apache.spark:spark-avro_2.11:2.4.3 pyspark-shell'\n",
    "# os.environ['PYSPARK_SUBMIT_ARGS'] = '--packages com.databricks:spark"
   ]
  },
  {
   "cell_type": "code",
   "execution_count": 2,
   "id": "5a21bec0",
   "metadata": {},
   "outputs": [],
   "source": [
    "#Entrypoint 2.x\n",
    "from pyspark.sql import SparkSession\n",
    "spark = SparkSession.builder.appName(\"Spark SQL basic example\").enableHiveSupport().getOrCreate()\n",
    "\n",
    "# On yarn:\n",
    "# spark = SparkSession.builder.appName(\"Spark SQL basic example\").enableHiveSupport().master(\"yarn\").getOrCreate()\n",
    "# specify .master(\"yarn\")\n",
    "\n",
    "sc = spark.sparkContext"
   ]
  },
  {
   "cell_type": "code",
   "execution_count": 3,
   "id": "6cf92529",
   "metadata": {},
   "outputs": [
    {
     "name": "stdout",
     "output_type": "stream",
     "text": [
      "+-------+------------------+------------------+----------------------+----------------------+-------------+-----------------+--------------------+------------+\n",
      "| neo_id|              name|absolute_magnitude|estimated_diameter_min|estimated_diameter_max|orbiting_body|relative_velocity|       miss_distance|is_hazardous|\n",
      "+-------+------------------+------------------+----------------------+----------------------+-------------+-----------------+--------------------+------------+\n",
      "|2162117|162117 (1998 SD15)|             19.14|          0.3949616937|          0.8831611957|        Earth| 71745.4010476829| 5.814362331916972E7|       false|\n",
      "|2349507|  349507 (2008 QY)|              18.5|          0.5303407233|          1.1858779086|        Earth|109949.7571484926| 5.580104781819944E7|        true|\n",
      "|2455415|  455415 (2003 GA)|             21.45|          0.1363185559|          0.3048175575|        Earth| 24865.5067981164| 6.720688772254463E7|       false|\n",
      "|3132126|         (2002 PB)|             20.63|          0.1988634532|          0.4446721997|        Earth| 78890.0768053243|3.0396444123281814E7|       false|\n",
      "|3557844|         (2011 DW)|              22.7|          0.0766575574|          0.1714115092|        Earth| 56036.5194835328| 6.311862650726541E7|       false|\n",
      "+-------+------------------+------------------+----------------------+----------------------+-------------+-----------------+--------------------+------------+\n",
      "only showing top 5 rows\n",
      "\n"
     ]
    }
   ],
   "source": [
    "# Path to the CSV file.\n",
    "file_path = \"file:///home/talentum/shared/NEO_Project/nearest-earth-objects(1910-2024).csv\"\n",
    "\n",
    "\n",
    "# Read the CSV file into a DataFrame.\n",
    "neo = spark.read.csv(file_path, header=True, inferSchema=True)\n",
    "\n",
    "# Show the first few Rows of the DataFrame.\n",
    "neo.show(5)"
   ]
  },
  {
   "cell_type": "code",
   "execution_count": 4,
   "id": "f30d4ba1",
   "metadata": {},
   "outputs": [
    {
     "name": "stdout",
     "output_type": "stream",
     "text": [
      "root\n",
      " |-- neo_id: integer (nullable = true)\n",
      " |-- name: string (nullable = true)\n",
      " |-- absolute_magnitude: double (nullable = true)\n",
      " |-- estimated_diameter_min: double (nullable = true)\n",
      " |-- estimated_diameter_max: double (nullable = true)\n",
      " |-- orbiting_body: string (nullable = true)\n",
      " |-- relative_velocity: double (nullable = true)\n",
      " |-- miss_distance: double (nullable = true)\n",
      " |-- is_hazardous: boolean (nullable = true)\n",
      "\n"
     ]
    }
   ],
   "source": [
    "# Print all the Columns of the NEO DataFrame.\n",
    "neo.printSchema()"
   ]
  },
  {
   "cell_type": "code",
   "execution_count": 5,
   "id": "abd1cfaf",
   "metadata": {},
   "outputs": [
    {
     "name": "stdout",
     "output_type": "stream",
     "text": [
      "+--------+-------------------+------------------+----------------------+----------------------+-------------+-----------------+--------------------+------------+\n",
      "|  neo_id|               name|absolute_magnitude|estimated_diameter_min|estimated_diameter_max|orbiting_body|relative_velocity|       miss_distance|is_hazardous|\n",
      "+--------+-------------------+------------------+----------------------+----------------------+-------------+-----------------+--------------------+------------+\n",
      "| 2162117| 162117 (1998 SD15)|             19.14|          0.3949616937|          0.8831611957|        Earth| 71745.4010476829| 5.814362331916972E7|       false|\n",
      "| 2349507|   349507 (2008 QY)|              18.5|          0.5303407233|          1.1858779086|        Earth|109949.7571484926| 5.580104781819944E7|        true|\n",
      "| 2455415|   455415 (2003 GA)|             21.45|          0.1363185559|          0.3048175575|        Earth| 24865.5067981164| 6.720688772254463E7|       false|\n",
      "| 3132126|          (2002 PB)|             20.63|          0.1988634532|          0.4446721997|        Earth| 78890.0768053243|3.0396444123281814E7|       false|\n",
      "| 3557844|          (2011 DW)|              22.7|          0.0766575574|          0.1714115092|        Earth| 56036.5194835328| 6.311862650726541E7|       false|\n",
      "| 3656926|         (2014 BT8)|              25.0|               0.02658|          0.0594346868|        Earth| 47477.6498319149| 4.290521417583934E7|       false|\n",
      "| 3421513|         (2008 OX1)|              21.5|          0.1332155667|          0.2978790628|        Earth| 57853.2953456014|2.7279081267306093E7|        true|\n",
      "| 3541504|       (2010 OF101)|             19.75|          0.2982325052|          0.6668681546|        Earth| 46972.4867936298| 6.997593131114951E7|       false|\n",
      "| 3836942|          (2018 YH)|              21.7|          0.1214940408|          0.2716689341|        Earth| 37424.5483817653|   5657726.906878882|        true|\n",
      "| 3892166|        (2019 UP13)|             23.45|          0.0542693946|          0.1213500554|        Earth| 38524.8678693203| 6.166118456265251E7|       false|\n",
      "|54245816|         (2022 CM3)|             26.02|          0.0166170902|          0.0371569432|        Earth| 45125.6120486885|3.4223883067873016E7|       false|\n",
      "| 2627157|  627157 (2008 OX1)|              21.5|          0.1332155667|          0.2978790628|        Earth| 57853.2957426173| 2.727908074371355E7|        true|\n",
      "|54418652|          (2024 AF)|             23.76|          0.0470494961|          0.1052058716|        Earth| 19121.3349135938| 1.244444777054916E7|       false|\n",
      "| 2162635|162635 (2000 SS164)|             16.71|          1.2093582639|          2.7042072872|        Earth| 12703.7885715422|  6.95894324383464E7|       false|\n",
      "| 3559741|        (2011 EE41)|              24.3|          0.0366906138|          0.0820427065|        Earth|    67828.7858823|  7.13079538423054E7|       false|\n",
      "|54193347|         (2021 RA4)|             24.32|          0.0363542322|          0.0812905344|        Earth|  45162.155756983| 4.036684287328309E7|       false|\n",
      "|54245582|         (2022 CQ2)|              24.9|          0.0278326768|          0.0622357573|        Earth| 40238.0190573707| 1.067515810039739E7|       false|\n",
      "| 2277810| 277810 (2006 FV35)|             21.72|          0.1203801767|          0.2691782583|        Earth| 31504.1009261814| 4.350790895824819E7|       false|\n",
      "| 2284422|   284422 (2006 YD)|             17.36|          0.8965096664|          2.0046565566|        Earth| 99804.7390172065| 5.519529579388013E7|       false|\n",
      "| 2357439| 357439 (2004 BL86)|             19.29|          0.3685996993|          0.8242139842|        Earth| 59133.7765895422|   7266531.841719698|        true|\n",
      "+--------+-------------------+------------------+----------------------+----------------------+-------------+-----------------+--------------------+------------+\n",
      "only showing top 20 rows\n",
      "\n"
     ]
    }
   ],
   "source": [
    "# Print the First 20 Rows of the NEO DataFrame.\n",
    "neo.show()"
   ]
  },
  {
   "cell_type": "code",
   "execution_count": 6,
   "id": "39a7d9a0",
   "metadata": {},
   "outputs": [
    {
     "name": "stdout",
     "output_type": "stream",
     "text": [
      "+-------+--------------------+--------------------+------------------+----------------------+----------------------+-------------+------------------+--------------------+\n",
      "|summary|              neo_id|                name|absolute_magnitude|estimated_diameter_min|estimated_diameter_max|orbiting_body| relative_velocity|       miss_distance|\n",
      "+-------+--------------------+--------------------+------------------+----------------------+----------------------+-------------+------------------+--------------------+\n",
      "|  count|              338199|              338199|            338171|                338171|                338171|       338199|            338199|              338199|\n",
      "|   mean|1.7599388682018574E7|                null| 22.93252495926504|   0.15781204666053292|    0.3528784640005324|         null| 51060.66290759541|4.1535350932190806E7|\n",
      "| stddev|2.2872246428931765E7|                null|2.9112163902923123|    0.3138851378796799|    0.7018685054244403|         null|26399.238434899267| 2.077399024610229E7|\n",
      "|    min|             2000433|           (1979 XB)|              9.25|           5.111578E-4|          0.0011429835|        Earth|      203.34643253|      6745.532515957|\n",
      "|    max|            54462807|99942 Apophis (20...|             33.58|         37.5452479361|         83.9537266171|        Earth| 291781.1066131202| 7.479865145219721E7|\n",
      "+-------+--------------------+--------------------+------------------+----------------------+----------------------+-------------+------------------+--------------------+\n",
      "\n"
     ]
    }
   ],
   "source": [
    "# Summary of NEO DataFrame.\n",
    "neo.describe().show()"
   ]
  },
  {
   "cell_type": "code",
   "execution_count": 7,
   "id": "196739e5",
   "metadata": {},
   "outputs": [
    {
     "data": {
      "text/plain": [
       "338199"
      ]
     },
     "execution_count": 7,
     "metadata": {},
     "output_type": "execute_result"
    }
   ],
   "source": [
    "# Counting the Number of Rows.\n",
    "neo.count()"
   ]
  },
  {
   "cell_type": "code",
   "execution_count": 8,
   "id": "108adcde",
   "metadata": {},
   "outputs": [
    {
     "data": {
      "text/plain": [
       "33514"
      ]
     },
     "execution_count": 8,
     "metadata": {},
     "output_type": "execute_result"
    }
   ],
   "source": [
    "neo.select(\"neo_id\").distinct().count()"
   ]
  },
  {
   "cell_type": "code",
   "execution_count": 9,
   "id": "8a1e80dc",
   "metadata": {},
   "outputs": [
    {
     "data": {
      "text/plain": [
       "33514"
      ]
     },
     "execution_count": 9,
     "metadata": {},
     "output_type": "execute_result"
    }
   ],
   "source": [
    "neo.select(\"name\").distinct().count()"
   ]
  },
  {
   "cell_type": "markdown",
   "id": "585c2dbb",
   "metadata": {},
   "source": [
    "# Finding the NULL Values in the Features."
   ]
  },
  {
   "cell_type": "code",
   "execution_count": 10,
   "id": "46ecbfff",
   "metadata": {},
   "outputs": [],
   "source": [
    "# Importing Functions.\n",
    "from pyspark.sql.functions import col, isnan, when, count"
   ]
  },
  {
   "cell_type": "code",
   "execution_count": 11,
   "id": "3492bfa9",
   "metadata": {},
   "outputs": [
    {
     "name": "stdout",
     "output_type": "stream",
     "text": [
      "+------------------+------------------+------------------+------------------+------------------+------------------+------------------+------------------+------------------+\n",
      "|absolute_magnitude|absolute_magnitude|absolute_magnitude|absolute_magnitude|absolute_magnitude|absolute_magnitude|absolute_magnitude|absolute_magnitude|absolute_magnitude|\n",
      "+------------------+------------------+------------------+------------------+------------------+------------------+------------------+------------------+------------------+\n",
      "|                28|                28|                28|                28|                28|                28|                28|                28|                28|\n",
      "+------------------+------------------+------------------+------------------+------------------+------------------+------------------+------------------+------------------+\n",
      "\n"
     ]
    }
   ],
   "source": [
    "null_counts_magnitude = neo.select([count(when(col(\"absolute_magnitude\").isNull() | isnan(\"absolute_magnitude\"), absolute_magnitude)).alias(\"absolute_magnitude\") for absolute_magnitude in neo.columns])\n",
    "\n",
    "null_counts_magnitude.show()"
   ]
  },
  {
   "cell_type": "code",
   "execution_count": 12,
   "id": "1cf4e803",
   "metadata": {},
   "outputs": [
    {
     "name": "stdout",
     "output_type": "stream",
     "text": [
      "+----------------------+----------------------+----------------------+----------------------+----------------------+----------------------+----------------------+----------------------+----------------------+\n",
      "|estimated_diameter_max|estimated_diameter_max|estimated_diameter_max|estimated_diameter_max|estimated_diameter_max|estimated_diameter_max|estimated_diameter_max|estimated_diameter_max|estimated_diameter_max|\n",
      "+----------------------+----------------------+----------------------+----------------------+----------------------+----------------------+----------------------+----------------------+----------------------+\n",
      "|                    28|                    28|                    28|                    28|                    28|                    28|                    28|                    28|                    28|\n",
      "+----------------------+----------------------+----------------------+----------------------+----------------------+----------------------+----------------------+----------------------+----------------------+\n",
      "\n"
     ]
    }
   ],
   "source": [
    "null_counts_dia_max = neo.select([count(when(col(\"estimated_diameter_max\").isNull() | isnan(\"estimated_diameter_max\"), estimated_diameter_max)).alias(\"estimated_diameter_max\") for estimated_diameter_max in neo.columns])\n",
    "\n",
    "null_counts_dia_max.show()"
   ]
  },
  {
   "cell_type": "code",
   "execution_count": 13,
   "id": "e7adf3c2",
   "metadata": {},
   "outputs": [
    {
     "name": "stdout",
     "output_type": "stream",
     "text": [
      "+----------------------+----------------------+----------------------+----------------------+----------------------+----------------------+----------------------+----------------------+----------------------+\n",
      "|estimated_diameter_min|estimated_diameter_min|estimated_diameter_min|estimated_diameter_min|estimated_diameter_min|estimated_diameter_min|estimated_diameter_min|estimated_diameter_min|estimated_diameter_min|\n",
      "+----------------------+----------------------+----------------------+----------------------+----------------------+----------------------+----------------------+----------------------+----------------------+\n",
      "|                    28|                    28|                    28|                    28|                    28|                    28|                    28|                    28|                    28|\n",
      "+----------------------+----------------------+----------------------+----------------------+----------------------+----------------------+----------------------+----------------------+----------------------+\n",
      "\n"
     ]
    }
   ],
   "source": [
    "null_counts_dia_min = neo.select([count(when(col(\"estimated_diameter_min\").isNull() | isnan(\"estimated_diameter_min\"), estimated_diameter_min)).alias(\"estimated_diameter_min\") for estimated_diameter_min in neo.columns])\n",
    "\n",
    "null_counts_dia_min.show()"
   ]
  },
  {
   "cell_type": "markdown",
   "id": "ee66125c",
   "metadata": {},
   "source": [
    "# Calculating MEAN Values of the Features."
   ]
  },
  {
   "cell_type": "code",
   "execution_count": 14,
   "id": "7042ef5f",
   "metadata": {},
   "outputs": [],
   "source": [
    "from pyspark.sql.types import DoubleType, StructField, StructType"
   ]
  },
  {
   "cell_type": "code",
   "execution_count": 15,
   "id": "4718f687",
   "metadata": {},
   "outputs": [],
   "source": [
    "from pyspark.sql.functions import mean\n",
    "from pyspark.sql.types import DoubleType"
   ]
  },
  {
   "cell_type": "code",
   "execution_count": 16,
   "id": "030c4d1b",
   "metadata": {},
   "outputs": [
    {
     "name": "stdout",
     "output_type": "stream",
     "text": [
      "+-----------------------+\n",
      "|absolute_magnitude_mean|\n",
      "+-----------------------+\n",
      "|      22.93252495926504|\n",
      "+-----------------------+\n",
      "\n"
     ]
    }
   ],
   "source": [
    "# Ensure the column \"absolute_magnitude\" exists and is of type DoubleType\n",
    "\n",
    "if \"absolute_magnitude\" in neo.columns and isinstance(neo.schema[\"absolute_magnitude\"].dataType, DoubleType):\n",
    "    absolute_magnitude_mean = neo.select(mean(\"absolute_magnitude\").alias(\"absolute_magnitude_mean\"))\n",
    "    absolute_magnitude_mean.show()\n",
    "else:\n",
    "    print(\"Column 'absolute_magnitude' does not exist or is not of type DoubleType.\")\n"
   ]
  },
  {
   "cell_type": "code",
   "execution_count": 17,
   "id": "98f9c721",
   "metadata": {},
   "outputs": [
    {
     "name": "stdout",
     "output_type": "stream",
     "text": [
      "+---------------------------+\n",
      "|estimated_diameter_max_mean|\n",
      "+---------------------------+\n",
      "|         0.3528784640005324|\n",
      "+---------------------------+\n",
      "\n"
     ]
    }
   ],
   "source": [
    "# Ensure the column \"absolute_magnitude\" exists and is of type DoubleType\n",
    "\n",
    "if \"estimated_diameter_max\" in neo.columns and isinstance(neo.schema[\"estimated_diameter_max\"].dataType, DoubleType):\n",
    "    estimated_diameter_max_mean = neo.select(mean(\"estimated_diameter_max\").alias(\"estimated_diameter_max_mean\"))\n",
    "    estimated_diameter_max_mean.show()\n",
    "else:\n",
    "    print(\"Column 'estimated_diameter_max' does not exist or is not of type DoubleType.\")\n"
   ]
  },
  {
   "cell_type": "code",
   "execution_count": 18,
   "id": "643420e8",
   "metadata": {},
   "outputs": [
    {
     "name": "stdout",
     "output_type": "stream",
     "text": [
      "+---------------------------+\n",
      "|estimated_diameter_min_mean|\n",
      "+---------------------------+\n",
      "|        0.15781204666053292|\n",
      "+---------------------------+\n",
      "\n"
     ]
    }
   ],
   "source": [
    "# Ensure the column \"absolute_magnitude\" exists and is of type DoubleType\n",
    "\n",
    "if \"estimated_diameter_min\" in neo.columns and isinstance(neo.schema[\"estimated_diameter_min\"].dataType, DoubleType):\n",
    "    estimated_diameter_min_mean = neo.select(mean(\"estimated_diameter_min\").alias(\"estimated_diameter_min_mean\"))\n",
    "    estimated_diameter_min_mean.show()\n",
    "else:\n",
    "    print(\"Column 'estimated_diameter_min' does not exist or is not of type DoubleType.\")"
   ]
  },
  {
   "cell_type": "markdown",
   "id": "cfe5068c",
   "metadata": {},
   "source": [
    "# Filling the NULL with MEAN Values in the Features."
   ]
  },
  {
   "cell_type": "code",
   "execution_count": 19,
   "id": "6457afe9",
   "metadata": {},
   "outputs": [
    {
     "name": "stdout",
     "output_type": "stream",
     "text": [
      "+-----------------------+\n",
      "|absolute_magnitude_mean|\n",
      "+-----------------------+\n",
      "|      22.93252495926504|\n",
      "+-----------------------+\n",
      "\n"
     ]
    }
   ],
   "source": [
    "absolute_magnitude_mean.show()"
   ]
  },
  {
   "cell_type": "code",
   "execution_count": 20,
   "id": "d467bc1c",
   "metadata": {},
   "outputs": [
    {
     "name": "stdout",
     "output_type": "stream",
     "text": [
      "+------------------+\n",
      "|absolute_magnitude|\n",
      "+------------------+\n",
      "|             19.14|\n",
      "|              18.5|\n",
      "|             21.45|\n",
      "|             20.63|\n",
      "|              22.7|\n",
      "|              25.0|\n",
      "|              21.5|\n",
      "|             19.75|\n",
      "|              21.7|\n",
      "|             23.45|\n",
      "|             26.02|\n",
      "|              21.5|\n",
      "|             23.76|\n",
      "|             16.71|\n",
      "|              24.3|\n",
      "|             24.32|\n",
      "|              24.9|\n",
      "|             21.72|\n",
      "|             17.36|\n",
      "|             19.29|\n",
      "+------------------+\n",
      "only showing top 20 rows\n",
      "\n"
     ]
    }
   ],
   "source": [
    "# Fill NA values in the `absolute_magnitude` column with the mean value\n",
    "neo = neo.fillna({\"absolute_magnitude\": 22.93252495926504})\n",
    "\n",
    "neo.select(\"absolute_magnitude\").show()"
   ]
  },
  {
   "cell_type": "code",
   "execution_count": 21,
   "id": "61d88b12",
   "metadata": {},
   "outputs": [
    {
     "name": "stdout",
     "output_type": "stream",
     "text": [
      "+------------------+------------------+------------------+------------------+------------------+------------------+------------------+------------------+------------------+\n",
      "|absolute_magnitude|absolute_magnitude|absolute_magnitude|absolute_magnitude|absolute_magnitude|absolute_magnitude|absolute_magnitude|absolute_magnitude|absolute_magnitude|\n",
      "+------------------+------------------+------------------+------------------+------------------+------------------+------------------+------------------+------------------+\n",
      "|                 0|                 0|                 0|                 0|                 0|                 0|                 0|                 0|                 0|\n",
      "+------------------+------------------+------------------+------------------+------------------+------------------+------------------+------------------+------------------+\n",
      "\n"
     ]
    }
   ],
   "source": [
    "null_counts = neo.select([count(when(col(\"absolute_magnitude\").isNull() | isnan(\"absolute_magnitude\"), absolute_magnitude)).alias(\"absolute_magnitude\") for absolute_magnitude in neo.columns])\n",
    "\n",
    "null_counts.show()"
   ]
  },
  {
   "cell_type": "code",
   "execution_count": 22,
   "id": "a41773d7",
   "metadata": {},
   "outputs": [
    {
     "name": "stdout",
     "output_type": "stream",
     "text": [
      "+---------------------------+\n",
      "|estimated_diameter_max_mean|\n",
      "+---------------------------+\n",
      "|         0.3528784640005324|\n",
      "+---------------------------+\n",
      "\n"
     ]
    }
   ],
   "source": [
    "estimated_diameter_max_mean.show()"
   ]
  },
  {
   "cell_type": "code",
   "execution_count": 23,
   "id": "c96d216f",
   "metadata": {},
   "outputs": [
    {
     "name": "stdout",
     "output_type": "stream",
     "text": [
      "+----------------------+\n",
      "|estimated_diameter_max|\n",
      "+----------------------+\n",
      "|          0.8831611957|\n",
      "|          1.1858779086|\n",
      "|          0.3048175575|\n",
      "|          0.4446721997|\n",
      "|          0.1714115092|\n",
      "|          0.0594346868|\n",
      "|          0.2978790628|\n",
      "|          0.6668681546|\n",
      "|          0.2716689341|\n",
      "|          0.1213500554|\n",
      "|          0.0371569432|\n",
      "|          0.2978790628|\n",
      "|          0.1052058716|\n",
      "|          2.7042072872|\n",
      "|          0.0820427065|\n",
      "|          0.0812905344|\n",
      "|          0.0622357573|\n",
      "|          0.2691782583|\n",
      "|          2.0046565566|\n",
      "|          0.8242139842|\n",
      "+----------------------+\n",
      "only showing top 20 rows\n",
      "\n"
     ]
    }
   ],
   "source": [
    "# Fill NA values in the `absolute_magnitude` column with the mean value\n",
    "neo = neo.fillna({\"estimated_diameter_max\": 0.35287846403961476})\n",
    "    \n",
    "neo.select(\"estimated_diameter_max\").show()"
   ]
  },
  {
   "cell_type": "code",
   "execution_count": 24,
   "id": "8048af44",
   "metadata": {},
   "outputs": [
    {
     "name": "stdout",
     "output_type": "stream",
     "text": [
      "+----------------------+----------------------+----------------------+----------------------+----------------------+----------------------+----------------------+----------------------+----------------------+\n",
      "|estimated_diameter_max|estimated_diameter_max|estimated_diameter_max|estimated_diameter_max|estimated_diameter_max|estimated_diameter_max|estimated_diameter_max|estimated_diameter_max|estimated_diameter_max|\n",
      "+----------------------+----------------------+----------------------+----------------------+----------------------+----------------------+----------------------+----------------------+----------------------+\n",
      "|                     0|                     0|                     0|                     0|                     0|                     0|                     0|                     0|                     0|\n",
      "+----------------------+----------------------+----------------------+----------------------+----------------------+----------------------+----------------------+----------------------+----------------------+\n",
      "\n"
     ]
    }
   ],
   "source": [
    "null_counts = neo.select([count(when(col(\"estimated_diameter_max\").isNull() | isnan(\"estimated_diameter_max\"), estimated_diameter_max)).alias(\"estimated_diameter_max\") for estimated_diameter_max in neo.columns])\n",
    "\n",
    "null_counts.show()"
   ]
  },
  {
   "cell_type": "code",
   "execution_count": 25,
   "id": "5f6b99e6",
   "metadata": {},
   "outputs": [
    {
     "name": "stdout",
     "output_type": "stream",
     "text": [
      "+---------------------------+\n",
      "|estimated_diameter_min_mean|\n",
      "+---------------------------+\n",
      "|        0.15781204666053292|\n",
      "+---------------------------+\n",
      "\n"
     ]
    }
   ],
   "source": [
    "estimated_diameter_min_mean.show()"
   ]
  },
  {
   "cell_type": "code",
   "execution_count": 26,
   "id": "750f40b8",
   "metadata": {},
   "outputs": [
    {
     "name": "stdout",
     "output_type": "stream",
     "text": [
      "+----------------------+\n",
      "|estimated_diameter_min|\n",
      "+----------------------+\n",
      "|          0.3949616937|\n",
      "|          0.5303407233|\n",
      "|          0.1363185559|\n",
      "|          0.1988634532|\n",
      "|          0.0766575574|\n",
      "|               0.02658|\n",
      "|          0.1332155667|\n",
      "|          0.2982325052|\n",
      "|          0.1214940408|\n",
      "|          0.0542693946|\n",
      "|          0.0166170902|\n",
      "|          0.1332155667|\n",
      "|          0.0470494961|\n",
      "|          1.2093582639|\n",
      "|          0.0366906138|\n",
      "|          0.0363542322|\n",
      "|          0.0278326768|\n",
      "|          0.1203801767|\n",
      "|          0.8965096664|\n",
      "|          0.3685996993|\n",
      "+----------------------+\n",
      "only showing top 20 rows\n",
      "\n"
     ]
    }
   ],
   "source": [
    "# Fill NA values in the `absolute_magnitude` column with the mean value\n",
    "neo = neo.fillna({\"estimated_diameter_min\": 0.1578120466895513})\n",
    "\n",
    "neo.select(\"estimated_diameter_min\").show()"
   ]
  },
  {
   "cell_type": "markdown",
   "id": "2f509595",
   "metadata": {},
   "source": []
  },
  {
   "cell_type": "code",
   "execution_count": 27,
   "id": "805148c4",
   "metadata": {},
   "outputs": [
    {
     "name": "stdout",
     "output_type": "stream",
     "text": [
      "+----------------------+----------------------+----------------------+----------------------+----------------------+----------------------+----------------------+----------------------+----------------------+\n",
      "|estimated_diameter_min|estimated_diameter_min|estimated_diameter_min|estimated_diameter_min|estimated_diameter_min|estimated_diameter_min|estimated_diameter_min|estimated_diameter_min|estimated_diameter_min|\n",
      "+----------------------+----------------------+----------------------+----------------------+----------------------+----------------------+----------------------+----------------------+----------------------+\n",
      "|                     0|                     0|                     0|                     0|                     0|                     0|                     0|                     0|                     0|\n",
      "+----------------------+----------------------+----------------------+----------------------+----------------------+----------------------+----------------------+----------------------+----------------------+\n",
      "\n"
     ]
    }
   ],
   "source": [
    "null_counts = neo.select([count(when(col(\"estimated_diameter_min\").isNull() | isnan(\"estimated_diameter_min\"), estimated_diameter_min)).alias(\"estimated_diameter_min\") for estimated_diameter_min in neo.columns])\n",
    "\n",
    "null_counts.show()"
   ]
  },
  {
   "cell_type": "markdown",
   "id": "10391957",
   "metadata": {},
   "source": [
    "# Spark HIve Integration"
   ]
  },
  {
   "cell_type": "code",
   "execution_count": 28,
   "id": "009fd87d",
   "metadata": {},
   "outputs": [],
   "source": [
    "from pyspark.sql import SparkSession\n",
    "\n",
    "# Initialize SparkSession with Hive support\n",
    "spark = SparkSession.builder \\\n",
    "    .appName(\"Spark-Hive Integration\") \\\n",
    "    .enableHiveSupport() \\\n",
    "    .getOrCreate()\n"
   ]
  },
  {
   "cell_type": "code",
   "execution_count": 29,
   "id": "2b2041c2",
   "metadata": {},
   "outputs": [
    {
     "name": "stdout",
     "output_type": "stream",
     "text": [
      "+--------+----------+-----------+\n",
      "|database| tableName|isTemporary|\n",
      "+--------+----------+-----------+\n",
      "| default|       neo|      false|\n",
      "| default|test_table|      false|\n",
      "+--------+----------+-----------+\n",
      "\n",
      "+--------+---------+-----------+\n",
      "|database|tableName|isTemporary|\n",
      "+--------+---------+-----------+\n",
      "| default|      neo|      false|\n",
      "+--------+---------+-----------+\n",
      "\n"
     ]
    }
   ],
   "source": [
    "# List all tables in the default database\n",
    "spark.sql(\"SHOW TABLES\").show()\n",
    "\n",
    "# Verify the specific table\n",
    "spark.sql(\"SHOW TABLES LIKE 'neo'\").show()"
   ]
  },
  {
   "cell_type": "code",
   "execution_count": 30,
   "id": "844da8d2",
   "metadata": {},
   "outputs": [
    {
     "name": "stdout",
     "output_type": "stream",
     "text": [
      "+--------+-------------------+------------------+----------------------+----------------------+-------------+-----------------+-------------+------------+\n",
      "|  neo_id|               name|absolute_magnitude|estimated_diameter_min|estimated_diameter_max|orbiting_body|relative_velocity|miss_distance|is_hazardous|\n",
      "+--------+-------------------+------------------+----------------------+----------------------+-------------+-----------------+-------------+------------+\n",
      "| 2162117| 162117 (1998 SD15)|             19.14|           0.394961694|           0.883161196|        Earth|      71745.40105|5.814362332E7|       false|\n",
      "| 2349507|   349507 (2008 QY)|              18.5|           0.530340723|           1.185877909|        Earth|      109949.7571|5.580104782E7|        true|\n",
      "| 2455415|   455415 (2003 GA)|             21.45|           0.136318556|           0.304817558|        Earth|       24865.5068|6.720688772E7|       false|\n",
      "| 3132126|          (2002 PB)|             20.63|           0.198863453|             0.4446722|        Earth|      78890.07681|3.039644412E7|       false|\n",
      "| 3557844|          (2011 DW)|              22.7|           0.076657557|           0.171411509|        Earth|      56036.51948|6.311862651E7|       false|\n",
      "| 3656926|         (2014 BT8)|              25.0|               0.02658|           0.059434687|        Earth|      47477.64983|4.290521418E7|       false|\n",
      "| 3421513|         (2008 OX1)|              21.5|           0.133215567|           0.297879063|        Earth|      57853.29535|2.727908127E7|        true|\n",
      "| 3541504|       (2010 OF101)|             19.75|           0.298232505|           0.666868155|        Earth|      46972.48679|6.997593131E7|       false|\n",
      "| 3836942|          (2018 YH)|              21.7|           0.121494041|           0.271668934|        Earth|      37424.54838|  5657726.907|        true|\n",
      "| 3892166|        (2019 UP13)|             23.45|           0.054269395|           0.121350055|        Earth|      38524.86787|6.166118456E7|       false|\n",
      "|54245816|         (2022 CM3)|             26.02|            0.01661709|           0.037156943|        Earth|      45125.61205|3.422388307E7|       false|\n",
      "| 2627157|  627157 (2008 OX1)|              21.5|           0.133215567|           0.297879063|        Earth|      57853.29574|2.727908074E7|        true|\n",
      "|54418652|          (2024 AF)|             23.76|           0.047049496|           0.105205872|        Earth|      19121.33491|1.244444777E7|       false|\n",
      "| 2162635|162635 (2000 SS164)|             16.71|           1.209358264|           2.704207287|        Earth|      12703.78857|6.958943244E7|       false|\n",
      "| 3559741|        (2011 EE41)|              24.3|           0.036690614|           0.082042707|        Earth|      67828.78588|7.130795384E7|       false|\n",
      "|54193347|         (2021 RA4)|             24.32|           0.036354232|           0.081290534|        Earth|      45162.15576|4.036684287E7|       false|\n",
      "|54245582|         (2022 CQ2)|              24.9|           0.027832677|           0.062235757|        Earth|      40238.01906| 1.06751581E7|       false|\n",
      "| 2277810| 277810 (2006 FV35)|             21.72|           0.120380177|           0.269178258|        Earth|      31504.10093|4.350790896E7|       false|\n",
      "| 2284422|   284422 (2006 YD)|             17.36|           0.896509666|           2.004656557|        Earth|      99804.73902|5.519529579E7|       false|\n",
      "| 2357439| 357439 (2004 BL86)|             19.29|           0.368599699|           0.824213984|        Earth|      59133.77659|  7266531.842|        true|\n",
      "+--------+-------------------+------------------+----------------------+----------------------+-------------+-----------------+-------------+------------+\n",
      "only showing top 20 rows\n",
      "\n"
     ]
    }
   ],
   "source": [
    "# Read data from the Hive table into a DataFrame\n",
    "df = spark.sql(\"SELECT * FROM default.neo\")\n",
    "\n",
    "# Show the DataFrame\n",
    "df.show()\n"
   ]
  },
  {
   "cell_type": "code",
   "execution_count": 31,
   "id": "1f9e21fd",
   "metadata": {},
   "outputs": [],
   "source": [
    "# Define the schema for the new Hive table\n",
    "df.write.mode(\"overwrite\").saveAsTable(\"default.neo_copy\")\n"
   ]
  },
  {
   "cell_type": "markdown",
   "id": "2f0cc947",
   "metadata": {},
   "source": [
    "# Filtering Records for Hazardous object"
   ]
  },
  {
   "cell_type": "code",
   "execution_count": 32,
   "id": "a2e2aaad",
   "metadata": {},
   "outputs": [
    {
     "name": "stdout",
     "output_type": "stream",
     "text": [
      "+-------+-------------------+------------------+----------------------+----------------------+-------------+-----------------+-------------+------------+\n",
      "| neo_id|               name|absolute_magnitude|estimated_diameter_min|estimated_diameter_max|orbiting_body|relative_velocity|miss_distance|is_hazardous|\n",
      "+-------+-------------------+------------------+----------------------+----------------------+-------------+-----------------+-------------+------------+\n",
      "|2349507|   349507 (2008 QY)|              18.5|           0.530340723|           1.185877909|        Earth|      109949.7571|5.580104782E7|        true|\n",
      "|3421513|         (2008 OX1)|              21.5|           0.133215567|           0.297879063|        Earth|      57853.29535|2.727908127E7|        true|\n",
      "|3836942|          (2018 YH)|              21.7|           0.121494041|           0.271668934|        Earth|      37424.54838|  5657726.907|        true|\n",
      "|2627157|  627157 (2008 OX1)|              21.5|           0.133215567|           0.297879063|        Earth|      57853.29574|2.727908074E7|        true|\n",
      "|2357439| 357439 (2004 BL86)|             19.29|           0.368599699|           0.824213984|        Earth|      59133.77659|  7266531.842|        true|\n",
      "|3730580|       (2015 TY237)|             21.58|            0.12839703|           0.287104486|        Earth|      31033.08542|5.615952234E7|        true|\n",
      "|2152828| 152828 (1999 VT25)|             21.28|           0.147419515|           0.329640056|        Earth|      45729.68419|5.241678571E7|        true|\n",
      "|2494975|494975 (2009 WO106)|             19.18|            0.38775283|           0.867041687|        Earth|      68306.59276|3.790720856E7|        true|\n",
      "|2483432| 483432 (2001 DF47)|             20.44|           0.217047594|           0.485333175|        Earth|      41135.35903|2.469791185E7|        true|\n",
      "|3125005|         (2002 JQ9)|             19.24|           0.377185489|           0.843412394|        Earth|      42003.18768|6.846343816E7|        true|\n",
      "|2140039| 140039 (2001 SO73)|             18.08|           0.643509521|           1.438931032|        Earth|      106453.0869|7.478754972E7|        true|\n",
      "|3739011|         (2015 YU7)|             21.37|           0.141434375|           0.316256878|        Earth|      32927.82969|2.799107158E7|        true|\n",
      "|3742342|       (2016 CL136)|             21.36|           0.142087207|           0.317716653|        Earth|      92214.24618|3.513588795E7|        true|\n",
      "|2138404| 138404 (2000 HA24)|              19.4|           0.350392641|           0.783501764|        Earth|      29531.28515|2.969174442E7|        true|\n",
      "|2481532|   481532 (2007 LE)|             19.62|           0.316632126|           0.708010957|        Earth|      74321.58654|6.691251057E7|        true|\n",
      "|3392365|         (2007 VT6)|             20.53|           0.208235599|           0.465628955|        Earth|      48519.03558|3.952656902E7|        true|\n",
      "|3467355|        (2009 SW17)|             19.88|           0.280902094|           0.628116177|        Earth|      42047.37149|2.864027178E7|        true|\n",
      "|2141432| 141432 (2002 CQ11)|             20.06|           0.258556212|           0.578149266|        Earth|      31208.78061|2.807268204E7|        true|\n",
      "|2192559|   192559 (1998 VO)|             20.43|           0.218049441|           0.487573371|        Earth|       27568.9334|5.687738505E7|        true|\n",
      "|3143081|        (2002 VR85)|              20.3|           0.231502122|           0.517654482|        Earth|      46344.09404|3.714592661E7|        true|\n",
      "+-------+-------------------+------------------+----------------------+----------------------+-------------+-----------------+-------------+------------+\n",
      "only showing top 20 rows\n",
      "\n"
     ]
    }
   ],
   "source": [
    "# Filter the DataFrame for hazardous objects\n",
    "hazardous_neo = spark.sql(\"SELECT * FROM default.neo WHERE is_hazardous = true\")\n",
    "\n",
    "# Show the hazardous near-Earth objects\n",
    "hazardous_neo.show()\n"
   ]
  },
  {
   "cell_type": "markdown",
   "id": "28284c74",
   "metadata": {},
   "source": [
    "# Average values of Diameter_max"
   ]
  },
  {
   "cell_type": "code",
   "execution_count": 43,
   "id": "bc5bd41a",
   "metadata": {},
   "outputs": [
    {
     "name": "stdout",
     "output_type": "stream",
     "text": [
      "+-------------------+\n",
      "|   avg_diameter_max|\n",
      "+-------------------+\n",
      "|0.35287846403961104|\n",
      "+-------------------+\n",
      "\n"
     ]
    }
   ],
   "source": [
    "# Calculate average estimated diameter max\n",
    "avg_diameter_max = spark.sql(\"SELECT AVG(estimated_diameter_max) AS avg_diameter_max FROM default.neo\")\n",
    "avg_diameter_max.show()\n",
    "\n",
    "\n"
   ]
  },
  {
   "cell_type": "markdown",
   "id": "3a4bf2b3",
   "metadata": {},
   "source": [
    "# Average values of Diameter_min"
   ]
  },
  {
   "cell_type": "code",
   "execution_count": 42,
   "id": "37ce693a",
   "metadata": {},
   "outputs": [
    {
     "name": "stdout",
     "output_type": "stream",
     "text": [
      "+-------------------+\n",
      "|   avg_diameter_min|\n",
      "+-------------------+\n",
      "|0.15781204668957705|\n",
      "+-------------------+\n",
      "\n"
     ]
    }
   ],
   "source": [
    "\n",
    "\n",
    "# Calculate average estimated diameter min\n",
    "avg_diameter_min = spark.sql(\"SELECT AVG(estimated_diameter_min) AS avg_diameter_min FROM default.neo\")\n",
    "avg_diameter_min.show()"
   ]
  },
  {
   "cell_type": "code",
   "execution_count": 36,
   "id": "10175bad",
   "metadata": {},
   "outputs": [
    {
     "name": "stdout",
     "output_type": "stream",
     "text": [
      "+----------+\n",
      "|null_count|\n",
      "+----------+\n",
      "|         0|\n",
      "+----------+\n",
      "\n"
     ]
    }
   ],
   "source": [
    "# Check for remaining NULL values in 'absolute_magnitude'\n",
    "null_counts_updated = spark.sql(\"SELECT COUNT(*) AS null_count FROM default.neo WHERE absolute_magnitude IS NULL\")\n",
    "null_counts_updated.show()\n"
   ]
  },
  {
   "cell_type": "code",
   "execution_count": 40,
   "id": "90deec8a",
   "metadata": {},
   "outputs": [],
   "source": [
    "# Save DataFrame to a CSV file\n",
    "neo.write.mode(\"overwrite\").csv(\"/home/talentum/shared/NEO_Project/NEO_CLEAN_NEW.csv\")\n",
    "\n",
    "# Save to a different Hive table\n",
    "neo.write.mode(\"overwrite\").saveAsTable(\"default.neo_processed\")"
   ]
  },
  {
   "cell_type": "code",
   "execution_count": null,
   "id": "5461cea2",
   "metadata": {},
   "outputs": [],
   "source": []
  }
 ],
 "metadata": {
  "kernelspec": {
   "display_name": "Python 3 (ipykernel)",
   "language": "python",
   "name": "python3"
  },
  "language_info": {
   "codemirror_mode": {
    "name": "ipython",
    "version": 3
   },
   "file_extension": ".py",
   "mimetype": "text/x-python",
   "name": "python",
   "nbconvert_exporter": "python",
   "pygments_lexer": "ipython3",
   "version": "3.11.5"
  }
 },
 "nbformat": 4,
 "nbformat_minor": 5
}
