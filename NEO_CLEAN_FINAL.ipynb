{
 "cells": [
  {
   "cell_type": "code",
   "execution_count": 1,
   "id": "469b829a",
   "metadata": {},
   "outputs": [],
   "source": [
    "import os\n",
    "import sys\n",
    "os.environ[\"SPARK_HOME\"] = \"/home/talentum/spark\"\n",
    "os.environ[\"PYLIB\"] = os.environ[\"SPARK_HOME\"] + \"/python/lib\"\n",
    "# In below two lines, use /usr/bin/python2.7 if you want to use Python 2\n",
    "os.environ[\"PYSPARK_PYTHON\"] = \"/usr/bin/python3.6\" \n",
    "os.environ[\"PYSPARK_DRIVER_PYTHON\"] = \"/usr/bin/python3\"\n",
    "sys.path.insert(0, os.environ[\"PYLIB\"] +\"/py4j-0.10.7-src.zip\")\n",
    "sys.path.insert(0, os.environ[\"PYLIB\"] +\"/pyspark.zip\")\n",
    "\n",
    "# NOTE: Whichever package you want mention here.\n",
    "# os.environ['PYSPARK_SUBMIT_ARGS'] = '--packages com.databricks:spark-xml_2.11:0.6.0 pyspark-shell' \n",
    "# os.environ['PYSPARK_SUBMIT_ARGS'] = '--packages org.apache.spark:spark-avro_2.11:2.4.0 pyspark-shell'\n",
    "os.environ['PYSPARK_SUBMIT_ARGS'] = '--packages com.databricks:spark-xml_2.11:0.6.0,org.apache.spark:spark-avro_2.11:2.4.3 pyspark-shell'\n",
    "# os.environ['PYSPARK_SUBMIT_ARGS'] = '--packages com.databricks:spark"
   ]
  },
  {
   "cell_type": "code",
   "execution_count": 2,
   "id": "5a21bec0",
   "metadata": {},
   "outputs": [],
   "source": [
    "#Entrypoint 2.x\n",
    "from pyspark.sql import SparkSession\n",
    "spark = SparkSession.builder.appName(\"Spark SQL basic example\").enableHiveSupport().getOrCreate()\n",
    "\n",
    "# On yarn:\n",
    "# spark = SparkSession.builder.appName(\"Spark SQL basic example\").enableHiveSupport().master(\"yarn\").getOrCreate()\n",
    "# specify .master(\"yarn\")\n",
    "\n",
    "sc = spark.sparkContext"
   ]
  },
  {
   "cell_type": "code",
   "execution_count": 3,
   "id": "6cf92529",
   "metadata": {},
   "outputs": [
    {
     "name": "stdout",
     "output_type": "stream",
     "text": [
      "+-------+------------------+------------------+----------------------+----------------------+-------------+-----------------+-------------+------------+\n",
      "| neo_id|              name|absolute_magnitude|estimated_diameter_min|estimated_diameter_max|orbiting_body|relative_velocity|miss_distance|is_hazardous|\n",
      "+-------+------------------+------------------+----------------------+----------------------+-------------+-----------------+-------------+------------+\n",
      "|2162117|162117 (1998 SD15)|             19.14|           0.394961694|           0.883161196|        Earth|      71745.40105|5.814362332E7|       false|\n",
      "|2349507|  349507 (2008 QY)|              18.5|           0.530340723|           1.185877909|        Earth|      109949.7571|5.580104782E7|        true|\n",
      "|2455415|  455415 (2003 GA)|             21.45|           0.136318556|           0.304817558|        Earth|       24865.5068|6.720688772E7|       false|\n",
      "|3132126|         (2002 PB)|             20.63|           0.198863453|             0.4446722|        Earth|      78890.07681|3.039644412E7|       false|\n",
      "|3557844|         (2011 DW)|              22.7|           0.076657557|           0.171411509|        Earth|      56036.51948|6.311862651E7|       false|\n",
      "+-------+------------------+------------------+----------------------+----------------------+-------------+-----------------+-------------+------------+\n",
      "only showing top 5 rows\n",
      "\n"
     ]
    }
   ],
   "source": [
    "# Path to the CSV file.\n",
    "file_path = \"file:///home/talentum/test-jupyter/test/P2/M1/SM2/Project/nearest-earth-objects(1910-2024).csv\"\n",
    "\n",
    "# Read the CSV file into a DataFrame.\n",
    "neo = spark.read.csv(file_path, header=True, inferSchema=True)\n",
    "\n",
    "# Show the first few Rows of the DataFrame.\n",
    "neo.show(5)"
   ]
  },
  {
   "cell_type": "code",
   "execution_count": 4,
   "id": "f30d4ba1",
   "metadata": {},
   "outputs": [
    {
     "name": "stdout",
     "output_type": "stream",
     "text": [
      "root\n",
      " |-- neo_id: integer (nullable = true)\n",
      " |-- name: string (nullable = true)\n",
      " |-- absolute_magnitude: double (nullable = true)\n",
      " |-- estimated_diameter_min: double (nullable = true)\n",
      " |-- estimated_diameter_max: double (nullable = true)\n",
      " |-- orbiting_body: string (nullable = true)\n",
      " |-- relative_velocity: double (nullable = true)\n",
      " |-- miss_distance: double (nullable = true)\n",
      " |-- is_hazardous: boolean (nullable = true)\n",
      "\n"
     ]
    }
   ],
   "source": [
    "# Print all the Columns of the NEO DataFrame.\n",
    "neo.printSchema()"
   ]
  },
  {
   "cell_type": "code",
   "execution_count": 5,
   "id": "abd1cfaf",
   "metadata": {},
   "outputs": [
    {
     "name": "stdout",
     "output_type": "stream",
     "text": [
      "+--------+-------------------+------------------+----------------------+----------------------+-------------+-----------------+-------------+------------+\n",
      "|  neo_id|               name|absolute_magnitude|estimated_diameter_min|estimated_diameter_max|orbiting_body|relative_velocity|miss_distance|is_hazardous|\n",
      "+--------+-------------------+------------------+----------------------+----------------------+-------------+-----------------+-------------+------------+\n",
      "| 2162117| 162117 (1998 SD15)|             19.14|           0.394961694|           0.883161196|        Earth|      71745.40105|5.814362332E7|       false|\n",
      "| 2349507|   349507 (2008 QY)|              18.5|           0.530340723|           1.185877909|        Earth|      109949.7571|5.580104782E7|        true|\n",
      "| 2455415|   455415 (2003 GA)|             21.45|           0.136318556|           0.304817558|        Earth|       24865.5068|6.720688772E7|       false|\n",
      "| 3132126|          (2002 PB)|             20.63|           0.198863453|             0.4446722|        Earth|      78890.07681|3.039644412E7|       false|\n",
      "| 3557844|          (2011 DW)|              22.7|           0.076657557|           0.171411509|        Earth|      56036.51948|6.311862651E7|       false|\n",
      "| 3656926|         (2014 BT8)|              25.0|               0.02658|           0.059434687|        Earth|      47477.64983|4.290521418E7|       false|\n",
      "| 3421513|         (2008 OX1)|              21.5|           0.133215567|           0.297879063|        Earth|      57853.29535|2.727908127E7|        true|\n",
      "| 3541504|       (2010 OF101)|             19.75|           0.298232505|           0.666868155|        Earth|      46972.48679|6.997593131E7|       false|\n",
      "| 3836942|          (2018 YH)|              21.7|           0.121494041|           0.271668934|        Earth|      37424.54838|  5657726.907|        true|\n",
      "| 3892166|        (2019 UP13)|             23.45|           0.054269395|           0.121350055|        Earth|      38524.86787|6.166118456E7|       false|\n",
      "|54245816|         (2022 CM3)|             26.02|            0.01661709|           0.037156943|        Earth|      45125.61205|3.422388307E7|       false|\n",
      "| 2627157|  627157 (2008 OX1)|              21.5|           0.133215567|           0.297879063|        Earth|      57853.29574|2.727908074E7|        true|\n",
      "|54418652|          (2024 AF)|             23.76|           0.047049496|           0.105205872|        Earth|      19121.33491|1.244444777E7|       false|\n",
      "| 2162635|162635 (2000 SS164)|             16.71|           1.209358264|           2.704207287|        Earth|      12703.78857|6.958943244E7|       false|\n",
      "| 3559741|        (2011 EE41)|              24.3|           0.036690614|           0.082042707|        Earth|      67828.78588|7.130795384E7|       false|\n",
      "|54193347|         (2021 RA4)|             24.32|           0.036354232|           0.081290534|        Earth|      45162.15576|4.036684287E7|       false|\n",
      "|54245582|         (2022 CQ2)|              24.9|           0.027832677|           0.062235757|        Earth|      40238.01906| 1.06751581E7|       false|\n",
      "| 2277810| 277810 (2006 FV35)|             21.72|           0.120380177|           0.269178258|        Earth|      31504.10093|4.350790896E7|       false|\n",
      "| 2284422|   284422 (2006 YD)|             17.36|           0.896509666|           2.004656557|        Earth|      99804.73902|5.519529579E7|       false|\n",
      "| 2357439| 357439 (2004 BL86)|             19.29|           0.368599699|           0.824213984|        Earth|      59133.77659|  7266531.842|        true|\n",
      "+--------+-------------------+------------------+----------------------+----------------------+-------------+-----------------+-------------+------------+\n",
      "only showing top 20 rows\n",
      "\n"
     ]
    }
   ],
   "source": [
    "# Print the First 20 Rows of the NEO DataFrame.\n",
    "neo.show()"
   ]
  },
  {
   "cell_type": "code",
   "execution_count": 6,
   "id": "39a7d9a0",
   "metadata": {},
   "outputs": [
    {
     "name": "stdout",
     "output_type": "stream",
     "text": [
      "+-------+--------------------+--------------------+------------------+----------------------+----------------------+-------------+------------------+--------------------+\n",
      "|summary|              neo_id|                name|absolute_magnitude|estimated_diameter_min|estimated_diameter_max|orbiting_body| relative_velocity|       miss_distance|\n",
      "+-------+--------------------+--------------------+------------------+----------------------+----------------------+-------------+------------------+--------------------+\n",
      "|  count|              338199|              338199|            338171|                338171|                338171|       338199|            338199|              338199|\n",
      "|   mean|1.7599388682018574E7|                null| 22.93252495926504|    0.1578120466895513|   0.35287846403961476|         null| 51060.66290760665|4.1535350932192504E7|\n",
      "| stddev|2.2872246428931765E7|                null|2.9112163902923123|    0.3138851378754725|    0.7018685054245288|         null|26399.238434932897|2.0773990246098448E7|\n",
      "|    min|             2000433|           (1979 XB)|              9.25|            5.11158E-4|           0.001142984|        Earth|       203.3464325|         6745.532516|\n",
      "|    max|            54462807|99942 Apophis (20...|             33.58|           37.54524794|           83.95372662|        Earth|       291781.1066|       7.479865145E7|\n",
      "+-------+--------------------+--------------------+------------------+----------------------+----------------------+-------------+------------------+--------------------+\n",
      "\n"
     ]
    }
   ],
   "source": [
    "# Summary of NEO DataFrame.\n",
    "neo.describe().show()"
   ]
  },
  {
   "cell_type": "code",
   "execution_count": 7,
   "id": "196739e5",
   "metadata": {},
   "outputs": [
    {
     "data": {
      "text/plain": [
       "338199"
      ]
     },
     "execution_count": 7,
     "metadata": {},
     "output_type": "execute_result"
    }
   ],
   "source": [
    "# Counting the Number of Rows.\n",
    "neo.count()"
   ]
  },
  {
   "cell_type": "code",
   "execution_count": 8,
   "id": "108adcde",
   "metadata": {},
   "outputs": [
    {
     "data": {
      "text/plain": [
       "33514"
      ]
     },
     "execution_count": 8,
     "metadata": {},
     "output_type": "execute_result"
    }
   ],
   "source": [
    "neo.select(\"neo_id\").distinct().count()"
   ]
  },
  {
   "cell_type": "code",
   "execution_count": 9,
   "id": "8a1e80dc",
   "metadata": {},
   "outputs": [
    {
     "data": {
      "text/plain": [
       "33514"
      ]
     },
     "execution_count": 9,
     "metadata": {},
     "output_type": "execute_result"
    }
   ],
   "source": [
    "neo.select(\"name\").distinct().count()"
   ]
  },
  {
   "cell_type": "markdown",
   "id": "585c2dbb",
   "metadata": {},
   "source": [
    "# Finding the NULL Values in the Features."
   ]
  },
  {
   "cell_type": "code",
   "execution_count": 10,
   "id": "46ecbfff",
   "metadata": {},
   "outputs": [],
   "source": [
    "# Importing Functions.\n",
    "from pyspark.sql.functions import col, isnan, when, count"
   ]
  },
  {
   "cell_type": "code",
   "execution_count": 11,
   "id": "3492bfa9",
   "metadata": {},
   "outputs": [
    {
     "name": "stdout",
     "output_type": "stream",
     "text": [
      "+------------------+------------------+------------------+------------------+------------------+------------------+------------------+------------------+------------------+\n",
      "|absolute_magnitude|absolute_magnitude|absolute_magnitude|absolute_magnitude|absolute_magnitude|absolute_magnitude|absolute_magnitude|absolute_magnitude|absolute_magnitude|\n",
      "+------------------+------------------+------------------+------------------+------------------+------------------+------------------+------------------+------------------+\n",
      "|                28|                28|                28|                28|                28|                28|                28|                28|                28|\n",
      "+------------------+------------------+------------------+------------------+------------------+------------------+------------------+------------------+------------------+\n",
      "\n"
     ]
    }
   ],
   "source": [
    "null_counts_magnitude = neo.select([count(when(col(\"absolute_magnitude\").isNull() | isnan(\"absolute_magnitude\"), absolute_magnitude)).alias(\"absolute_magnitude\") for absolute_magnitude in neo.columns])\n",
    "\n",
    "null_counts_magnitude.show()"
   ]
  },
  {
   "cell_type": "code",
   "execution_count": 12,
   "id": "1cf4e803",
   "metadata": {},
   "outputs": [
    {
     "name": "stdout",
     "output_type": "stream",
     "text": [
      "+----------------------+----------------------+----------------------+----------------------+----------------------+----------------------+----------------------+----------------------+----------------------+\n",
      "|estimated_diameter_max|estimated_diameter_max|estimated_diameter_max|estimated_diameter_max|estimated_diameter_max|estimated_diameter_max|estimated_diameter_max|estimated_diameter_max|estimated_diameter_max|\n",
      "+----------------------+----------------------+----------------------+----------------------+----------------------+----------------------+----------------------+----------------------+----------------------+\n",
      "|                    28|                    28|                    28|                    28|                    28|                    28|                    28|                    28|                    28|\n",
      "+----------------------+----------------------+----------------------+----------------------+----------------------+----------------------+----------------------+----------------------+----------------------+\n",
      "\n"
     ]
    }
   ],
   "source": [
    "null_counts_dia_max = neo.select([count(when(col(\"estimated_diameter_max\").isNull() | isnan(\"estimated_diameter_max\"), estimated_diameter_max)).alias(\"estimated_diameter_max\") for estimated_diameter_max in neo.columns])\n",
    "\n",
    "null_counts_dia_max.show()"
   ]
  },
  {
   "cell_type": "code",
   "execution_count": 13,
   "id": "e7adf3c2",
   "metadata": {},
   "outputs": [
    {
     "name": "stdout",
     "output_type": "stream",
     "text": [
      "+----------------------+----------------------+----------------------+----------------------+----------------------+----------------------+----------------------+----------------------+----------------------+\n",
      "|estimated_diameter_min|estimated_diameter_min|estimated_diameter_min|estimated_diameter_min|estimated_diameter_min|estimated_diameter_min|estimated_diameter_min|estimated_diameter_min|estimated_diameter_min|\n",
      "+----------------------+----------------------+----------------------+----------------------+----------------------+----------------------+----------------------+----------------------+----------------------+\n",
      "|                    28|                    28|                    28|                    28|                    28|                    28|                    28|                    28|                    28|\n",
      "+----------------------+----------------------+----------------------+----------------------+----------------------+----------------------+----------------------+----------------------+----------------------+\n",
      "\n"
     ]
    }
   ],
   "source": [
    "null_counts_dia_min = neo.select([count(when(col(\"estimated_diameter_min\").isNull() | isnan(\"estimated_diameter_min\"), estimated_diameter_min)).alias(\"estimated_diameter_min\") for estimated_diameter_min in neo.columns])\n",
    "\n",
    "null_counts_dia_min.show()"
   ]
  },
  {
   "cell_type": "markdown",
   "id": "ee66125c",
   "metadata": {},
   "source": [
    "# Calculating MEAN Values of the Features."
   ]
  },
  {
   "cell_type": "code",
   "execution_count": 14,
   "id": "7042ef5f",
   "metadata": {},
   "outputs": [],
   "source": [
    "from pyspark.sql.types import DoubleType, StructField, StructType"
   ]
  },
  {
   "cell_type": "code",
   "execution_count": 15,
   "id": "4718f687",
   "metadata": {},
   "outputs": [],
   "source": [
    "from pyspark.sql.functions import mean\n",
    "from pyspark.sql.types import DoubleType"
   ]
  },
  {
   "cell_type": "code",
   "execution_count": 16,
   "id": "030c4d1b",
   "metadata": {},
   "outputs": [
    {
     "name": "stdout",
     "output_type": "stream",
     "text": [
      "+-----------------------+\n",
      "|absolute_magnitude_mean|\n",
      "+-----------------------+\n",
      "|      22.93252495926504|\n",
      "+-----------------------+\n",
      "\n"
     ]
    }
   ],
   "source": [
    "# Ensure the column \"absolute_magnitude\" exists and is of type DoubleType\n",
    "\n",
    "if \"absolute_magnitude\" in neo.columns and isinstance(neo.schema[\"absolute_magnitude\"].dataType, DoubleType):\n",
    "    absolute_magnitude_mean = neo.select(mean(\"absolute_magnitude\").alias(\"absolute_magnitude_mean\"))\n",
    "    absolute_magnitude_mean.show()\n",
    "else:\n",
    "    print(\"Column 'absolute_magnitude' does not exist or is not of type DoubleType.\")\n"
   ]
  },
  {
   "cell_type": "code",
   "execution_count": 17,
   "id": "98f9c721",
   "metadata": {},
   "outputs": [
    {
     "name": "stdout",
     "output_type": "stream",
     "text": [
      "+---------------------------+\n",
      "|estimated_diameter_max_mean|\n",
      "+---------------------------+\n",
      "|        0.35287846403961476|\n",
      "+---------------------------+\n",
      "\n"
     ]
    }
   ],
   "source": [
    "# Ensure the column \"absolute_magnitude\" exists and is of type DoubleType\n",
    "\n",
    "if \"estimated_diameter_max\" in neo.columns and isinstance(neo.schema[\"estimated_diameter_max\"].dataType, DoubleType):\n",
    "    estimated_diameter_max_mean = neo.select(mean(\"estimated_diameter_max\").alias(\"estimated_diameter_max_mean\"))\n",
    "    estimated_diameter_max_mean.show()\n",
    "else:\n",
    "    print(\"Column 'estimated_diameter_max' does not exist or is not of type DoubleType.\")\n"
   ]
  },
  {
   "cell_type": "code",
   "execution_count": 18,
   "id": "643420e8",
   "metadata": {},
   "outputs": [
    {
     "name": "stdout",
     "output_type": "stream",
     "text": [
      "+---------------------------+\n",
      "|estimated_diameter_min_mean|\n",
      "+---------------------------+\n",
      "|         0.1578120466895513|\n",
      "+---------------------------+\n",
      "\n"
     ]
    }
   ],
   "source": [
    "# Ensure the column \"absolute_magnitude\" exists and is of type DoubleType\n",
    "\n",
    "if \"estimated_diameter_min\" in neo.columns and isinstance(neo.schema[\"estimated_diameter_min\"].dataType, DoubleType):\n",
    "    estimated_diameter_min_mean = neo.select(mean(\"estimated_diameter_min\").alias(\"estimated_diameter_min_mean\"))\n",
    "    estimated_diameter_min_mean.show()\n",
    "else:\n",
    "    print(\"Column 'estimated_diameter_min' does not exist or is not of type DoubleType.\")"
   ]
  },
  {
   "cell_type": "markdown",
   "id": "cfe5068c",
   "metadata": {},
   "source": [
    "# Filling the NULL with MEAN Values in the Features."
   ]
  },
  {
   "cell_type": "code",
   "execution_count": 19,
   "id": "6457afe9",
   "metadata": {},
   "outputs": [
    {
     "name": "stdout",
     "output_type": "stream",
     "text": [
      "+-----------------------+\n",
      "|absolute_magnitude_mean|\n",
      "+-----------------------+\n",
      "|      22.93252495926504|\n",
      "+-----------------------+\n",
      "\n"
     ]
    }
   ],
   "source": [
    "absolute_magnitude_mean.show()"
   ]
  },
  {
   "cell_type": "code",
   "execution_count": 20,
   "id": "d467bc1c",
   "metadata": {},
   "outputs": [
    {
     "name": "stdout",
     "output_type": "stream",
     "text": [
      "+------------------+\n",
      "|absolute_magnitude|\n",
      "+------------------+\n",
      "|             19.14|\n",
      "|              18.5|\n",
      "|             21.45|\n",
      "|             20.63|\n",
      "|              22.7|\n",
      "|              25.0|\n",
      "|              21.5|\n",
      "|             19.75|\n",
      "|              21.7|\n",
      "|             23.45|\n",
      "|             26.02|\n",
      "|              21.5|\n",
      "|             23.76|\n",
      "|             16.71|\n",
      "|              24.3|\n",
      "|             24.32|\n",
      "|              24.9|\n",
      "|             21.72|\n",
      "|             17.36|\n",
      "|             19.29|\n",
      "+------------------+\n",
      "only showing top 20 rows\n",
      "\n"
     ]
    }
   ],
   "source": [
    "# Fill NA values in the `absolute_magnitude` column with the mean value\n",
    "neo = neo.fillna({\"absolute_magnitude\": 22.93252495926504})\n",
    "\n",
    "neo.select(\"absolute_magnitude\").show()"
   ]
  },
  {
   "cell_type": "code",
   "execution_count": 21,
   "id": "61d88b12",
   "metadata": {},
   "outputs": [
    {
     "name": "stdout",
     "output_type": "stream",
     "text": [
      "+------------------+------------------+------------------+------------------+------------------+------------------+------------------+------------------+------------------+\n",
      "|absolute_magnitude|absolute_magnitude|absolute_magnitude|absolute_magnitude|absolute_magnitude|absolute_magnitude|absolute_magnitude|absolute_magnitude|absolute_magnitude|\n",
      "+------------------+------------------+------------------+------------------+------------------+------------------+------------------+------------------+------------------+\n",
      "|                 0|                 0|                 0|                 0|                 0|                 0|                 0|                 0|                 0|\n",
      "+------------------+------------------+------------------+------------------+------------------+------------------+------------------+------------------+------------------+\n",
      "\n"
     ]
    }
   ],
   "source": [
    "null_counts = neo.select([count(when(col(\"absolute_magnitude\").isNull() | isnan(\"absolute_magnitude\"), absolute_magnitude)).alias(\"absolute_magnitude\") for absolute_magnitude in neo.columns])\n",
    "\n",
    "null_counts.show()"
   ]
  },
  {
   "cell_type": "code",
   "execution_count": 22,
   "id": "a41773d7",
   "metadata": {},
   "outputs": [
    {
     "name": "stdout",
     "output_type": "stream",
     "text": [
      "+---------------------------+\n",
      "|estimated_diameter_max_mean|\n",
      "+---------------------------+\n",
      "|        0.35287846403961476|\n",
      "+---------------------------+\n",
      "\n"
     ]
    }
   ],
   "source": [
    "estimated_diameter_max_mean.show()"
   ]
  },
  {
   "cell_type": "code",
   "execution_count": 23,
   "id": "c96d216f",
   "metadata": {},
   "outputs": [
    {
     "name": "stdout",
     "output_type": "stream",
     "text": [
      "+----------------------+\n",
      "|estimated_diameter_max|\n",
      "+----------------------+\n",
      "|           0.883161196|\n",
      "|           1.185877909|\n",
      "|           0.304817558|\n",
      "|             0.4446722|\n",
      "|           0.171411509|\n",
      "|           0.059434687|\n",
      "|           0.297879063|\n",
      "|           0.666868155|\n",
      "|           0.271668934|\n",
      "|           0.121350055|\n",
      "|           0.037156943|\n",
      "|           0.297879063|\n",
      "|           0.105205872|\n",
      "|           2.704207287|\n",
      "|           0.082042707|\n",
      "|           0.081290534|\n",
      "|           0.062235757|\n",
      "|           0.269178258|\n",
      "|           2.004656557|\n",
      "|           0.824213984|\n",
      "+----------------------+\n",
      "only showing top 20 rows\n",
      "\n"
     ]
    }
   ],
   "source": [
    "# Fill NA values in the `absolute_magnitude` column with the mean value\n",
    "neo = neo.fillna({\"estimated_diameter_max\": 0.35287846403961476})\n",
    "    \n",
    "neo.select(\"estimated_diameter_max\").show()"
   ]
  },
  {
   "cell_type": "code",
   "execution_count": 24,
   "id": "8048af44",
   "metadata": {},
   "outputs": [
    {
     "name": "stdout",
     "output_type": "stream",
     "text": [
      "+----------------------+----------------------+----------------------+----------------------+----------------------+----------------------+----------------------+----------------------+----------------------+\n",
      "|estimated_diameter_max|estimated_diameter_max|estimated_diameter_max|estimated_diameter_max|estimated_diameter_max|estimated_diameter_max|estimated_diameter_max|estimated_diameter_max|estimated_diameter_max|\n",
      "+----------------------+----------------------+----------------------+----------------------+----------------------+----------------------+----------------------+----------------------+----------------------+\n",
      "|                     0|                     0|                     0|                     0|                     0|                     0|                     0|                     0|                     0|\n",
      "+----------------------+----------------------+----------------------+----------------------+----------------------+----------------------+----------------------+----------------------+----------------------+\n",
      "\n"
     ]
    }
   ],
   "source": [
    "null_counts = neo.select([count(when(col(\"estimated_diameter_max\").isNull() | isnan(\"estimated_diameter_max\"), estimated_diameter_max)).alias(\"estimated_diameter_max\") for estimated_diameter_max in neo.columns])\n",
    "\n",
    "null_counts.show()"
   ]
  },
  {
   "cell_type": "code",
   "execution_count": 25,
   "id": "5f6b99e6",
   "metadata": {},
   "outputs": [
    {
     "name": "stdout",
     "output_type": "stream",
     "text": [
      "+---------------------------+\n",
      "|estimated_diameter_min_mean|\n",
      "+---------------------------+\n",
      "|         0.1578120466895513|\n",
      "+---------------------------+\n",
      "\n"
     ]
    }
   ],
   "source": [
    "estimated_diameter_min_mean.show()"
   ]
  },
  {
   "cell_type": "code",
   "execution_count": 26,
   "id": "750f40b8",
   "metadata": {},
   "outputs": [
    {
     "name": "stdout",
     "output_type": "stream",
     "text": [
      "+----------------------+\n",
      "|estimated_diameter_min|\n",
      "+----------------------+\n",
      "|           0.394961694|\n",
      "|           0.530340723|\n",
      "|           0.136318556|\n",
      "|           0.198863453|\n",
      "|           0.076657557|\n",
      "|               0.02658|\n",
      "|           0.133215567|\n",
      "|           0.298232505|\n",
      "|           0.121494041|\n",
      "|           0.054269395|\n",
      "|            0.01661709|\n",
      "|           0.133215567|\n",
      "|           0.047049496|\n",
      "|           1.209358264|\n",
      "|           0.036690614|\n",
      "|           0.036354232|\n",
      "|           0.027832677|\n",
      "|           0.120380177|\n",
      "|           0.896509666|\n",
      "|           0.368599699|\n",
      "+----------------------+\n",
      "only showing top 20 rows\n",
      "\n"
     ]
    }
   ],
   "source": [
    "# Fill NA values in the `absolute_magnitude` column with the mean value\n",
    "neo = neo.fillna({\"estimated_diameter_min\": 0.1578120466895513})\n",
    "\n",
    "neo.select(\"estimated_diameter_min\").show()"
   ]
  },
  {
   "cell_type": "code",
   "execution_count": 27,
   "id": "805148c4",
   "metadata": {},
   "outputs": [
    {
     "name": "stdout",
     "output_type": "stream",
     "text": [
      "+----------------------+----------------------+----------------------+----------------------+----------------------+----------------------+----------------------+----------------------+----------------------+\n",
      "|estimated_diameter_min|estimated_diameter_min|estimated_diameter_min|estimated_diameter_min|estimated_diameter_min|estimated_diameter_min|estimated_diameter_min|estimated_diameter_min|estimated_diameter_min|\n",
      "+----------------------+----------------------+----------------------+----------------------+----------------------+----------------------+----------------------+----------------------+----------------------+\n",
      "|                     0|                     0|                     0|                     0|                     0|                     0|                     0|                     0|                     0|\n",
      "+----------------------+----------------------+----------------------+----------------------+----------------------+----------------------+----------------------+----------------------+----------------------+\n",
      "\n"
     ]
    }
   ],
   "source": [
    "null_counts = neo.select([count(when(col(\"estimated_diameter_min\").isNull() | isnan(\"estimated_diameter_min\"), estimated_diameter_min)).alias(\"estimated_diameter_min\") for estimated_diameter_min in neo.columns])\n",
    "\n",
    "null_counts.show()"
   ]
  },
  {
   "cell_type": "code",
   "execution_count": null,
   "id": "009fd87d",
   "metadata": {},
   "outputs": [],
   "source": []
  },
  {
   "cell_type": "code",
   "execution_count": null,
   "id": "2b2041c2",
   "metadata": {},
   "outputs": [],
   "source": []
  }
 ],
 "metadata": {
  "kernelspec": {
   "display_name": "Python 3",
   "language": "python",
   "name": "python3"
  },
  "language_info": {
   "codemirror_mode": {
    "name": "ipython",
    "version": 3
   },
   "file_extension": ".py",
   "mimetype": "text/x-python",
   "name": "python",
   "nbconvert_exporter": "python",
   "pygments_lexer": "ipython3",
   "version": "3.6.9"
  }
 },
 "nbformat": 4,
 "nbformat_minor": 5
}
