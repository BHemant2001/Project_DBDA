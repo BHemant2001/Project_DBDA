{
 "cells": [
  {
   "cell_type": "code",
   "execution_count": 1,
   "id": "b3a12985",
   "metadata": {},
   "outputs": [
    {
     "name": "stdout",
     "output_type": "stream",
     "text": [
      "Collecting pyspark\n",
      "Collecting py4j==0.10.9.5 (from pyspark)\n",
      "  Using cached https://files.pythonhosted.org/packages/86/ec/60880978512d5569ca4bf32b3b4d7776a528ecf4bca4523936c98c92a3c8/py4j-0.10.9.5-py2.py3-none-any.whl\n",
      "Installing collected packages: py4j, pyspark\n",
      "Successfully installed py4j-0.10.9.5 pyspark-3.2.4\n",
      "Note: you may need to restart the kernel to use updated packages.\n"
     ]
    }
   ],
   "source": [
    "pip install pyspark"
   ]
  },
  {
   "cell_type": "code",
   "execution_count": 3,
   "id": "f97a6ac3",
   "metadata": {},
   "outputs": [],
   "source": [
    "import os\n",
    "import sys\n",
    "os.environ[\"SPARK_HOME\"] = \"/home/talentum/spark\"\n",
    "os.environ[\"PYLIB\"] = os.environ[\"SPARK_HOME\"] + \"/python/lib\"\n",
    "# In below two lines, use /usr/bin/python2.7 if you want to use Python 2\n",
    "os.environ[\"PYSPARK_PYTHON\"] = \"/usr/bin/python3.6\" \n",
    "os.environ[\"PYSPARK_DRIVER_PYTHON\"] = \"/usr/bin/python3\"\n",
    "sys.path.insert(0, os.environ[\"PYLIB\"] +\"/py4j-0.10.7-src.zip\")\n",
    "sys.path.insert(0, os.environ[\"PYLIB\"] +\"/pyspark.zip\")\n",
    "\n",
    "# NOTE: Whichever package you want mention here.\n",
    "# os.environ['PYSPARK_SUBMIT_ARGS'] = '--packages com.databricks:spark-xml_2.11:0.6.0 pyspark-shell' \n",
    "# os.environ['PYSPARK_SUBMIT_ARGS'] = '--packages org.apache.spark:spark-avro_2.11:2.4.0 pyspark-shell'\n",
    "os.environ['PYSPARK_SUBMIT_ARGS'] = '--packages com.databricks:spark-xml_2.11:0.6.0,org.apache.spark:spark-avro_2.11:2.4.3 pyspark-shell'\n",
    "# os.environ['PYSPARK_SUBMIT_ARGS'] = '--packages com.databricks:spark"
   ]
  },
  {
   "cell_type": "code",
   "execution_count": 4,
   "id": "241c687f",
   "metadata": {},
   "outputs": [],
   "source": [
    "#Entrypoint 2.x\n",
    "from pyspark.sql import SparkSession\n",
    "spark = SparkSession.builder.appName(\"Spark SQL basic example\").enableHiveSupport().getOrCreate()\n",
    "\n",
    "# On yarn:\n",
    "# spark = SparkSession.builder.appName(\"Spark SQL basic example\").enableHiveSupport().master(\"yarn\").getOrCreate()\n",
    "# specify .master(\"yarn\")\n",
    "\n",
    "sc = spark.sparkContext"
   ]
  },
  {
   "cell_type": "code",
   "execution_count": 13,
   "id": "dc242303",
   "metadata": {},
   "outputs": [
    {
     "name": "stdout",
     "output_type": "stream",
     "text": [
      "+-------+------------------+------------------+----------------------+----------------------+-------------+-----------------+--------------------+------------+\n",
      "| neo_id|              name|absolute_magnitude|estimated_diameter_min|estimated_diameter_max|orbiting_body|relative_velocity|       miss_distance|is_hazardous|\n",
      "+-------+------------------+------------------+----------------------+----------------------+-------------+-----------------+--------------------+------------+\n",
      "|2162117|162117 (1998 SD15)|             19.14|          0.3949616937|          0.8831611957|        Earth| 71745.4010476829| 5.814362331916972E7|       false|\n",
      "|2349507|  349507 (2008 QY)|              18.5|          0.5303407233|          1.1858779086|        Earth|109949.7571484926| 5.580104781819944E7|        true|\n",
      "|2455415|  455415 (2003 GA)|             21.45|          0.1363185559|          0.3048175575|        Earth| 24865.5067981164| 6.720688772254463E7|       false|\n",
      "|3132126|         (2002 PB)|             20.63|          0.1988634532|          0.4446721997|        Earth| 78890.0768053243|3.0396444123281814E7|       false|\n",
      "|3557844|         (2011 DW)|              22.7|          0.0766575574|          0.1714115092|        Earth| 56036.5194835328| 6.311862650726541E7|       false|\n",
      "+-------+------------------+------------------+----------------------+----------------------+-------------+-----------------+--------------------+------------+\n",
      "only showing top 5 rows\n",
      "\n"
     ]
    }
   ],
   "source": [
    "# Path to the CSV file\n",
    "#file_path = '/kaggle/input/nasa-nearest-earth-objects-1910-2024/nearest-earth-objects(1910-2024).csv'\n",
    "\n",
    "\n",
    "file_path = \"file:///home/talentum/shared/NEO_Project/nearest-earth-objects(1910-2024).csv\"\n",
    "\n",
    "\n",
    "# Read the CSV file into a DataFrame\n",
    "neo = spark.read.csv(file_path, header=True, inferSchema=True)\n",
    "# Show the first few rows of the DataFrame\n",
    "neo.show(5)\n"
   ]
  },
  {
   "cell_type": "code",
   "execution_count": 14,
   "id": "067cacb2",
   "metadata": {},
   "outputs": [
    {
     "name": "stdout",
     "output_type": "stream",
     "text": [
      "root\n",
      " |-- neo_id: integer (nullable = true)\n",
      " |-- name: string (nullable = true)\n",
      " |-- absolute_magnitude: double (nullable = true)\n",
      " |-- estimated_diameter_min: double (nullable = true)\n",
      " |-- estimated_diameter_max: double (nullable = true)\n",
      " |-- orbiting_body: string (nullable = true)\n",
      " |-- relative_velocity: double (nullable = true)\n",
      " |-- miss_distance: double (nullable = true)\n",
      " |-- is_hazardous: boolean (nullable = true)\n",
      "\n"
     ]
    }
   ],
   "source": [
    "neo.printSchema()\n",
    "#printschema shows all columns"
   ]
  },
  {
   "cell_type": "code",
   "execution_count": 15,
   "id": "f6824d01",
   "metadata": {},
   "outputs": [
    {
     "name": "stdout",
     "output_type": "stream",
     "text": [
      "+--------+-------------------+------------------+----------------------+----------------------+-------------+-----------------+--------------------+------------+\n",
      "|  neo_id|               name|absolute_magnitude|estimated_diameter_min|estimated_diameter_max|orbiting_body|relative_velocity|       miss_distance|is_hazardous|\n",
      "+--------+-------------------+------------------+----------------------+----------------------+-------------+-----------------+--------------------+------------+\n",
      "| 2162117| 162117 (1998 SD15)|             19.14|          0.3949616937|          0.8831611957|        Earth| 71745.4010476829| 5.814362331916972E7|       false|\n",
      "| 2349507|   349507 (2008 QY)|              18.5|          0.5303407233|          1.1858779086|        Earth|109949.7571484926| 5.580104781819944E7|        true|\n",
      "| 2455415|   455415 (2003 GA)|             21.45|          0.1363185559|          0.3048175575|        Earth| 24865.5067981164| 6.720688772254463E7|       false|\n",
      "| 3132126|          (2002 PB)|             20.63|          0.1988634532|          0.4446721997|        Earth| 78890.0768053243|3.0396444123281814E7|       false|\n",
      "| 3557844|          (2011 DW)|              22.7|          0.0766575574|          0.1714115092|        Earth| 56036.5194835328| 6.311862650726541E7|       false|\n",
      "| 3656926|         (2014 BT8)|              25.0|               0.02658|          0.0594346868|        Earth| 47477.6498319149| 4.290521417583934E7|       false|\n",
      "| 3421513|         (2008 OX1)|              21.5|          0.1332155667|          0.2978790628|        Earth| 57853.2953456014|2.7279081267306093E7|        true|\n",
      "| 3541504|       (2010 OF101)|             19.75|          0.2982325052|          0.6668681546|        Earth| 46972.4867936298| 6.997593131114951E7|       false|\n",
      "| 3836942|          (2018 YH)|              21.7|          0.1214940408|          0.2716689341|        Earth| 37424.5483817653|   5657726.906878882|        true|\n",
      "| 3892166|        (2019 UP13)|             23.45|          0.0542693946|          0.1213500554|        Earth| 38524.8678693203| 6.166118456265251E7|       false|\n",
      "|54245816|         (2022 CM3)|             26.02|          0.0166170902|          0.0371569432|        Earth| 45125.6120486885|3.4223883067873016E7|       false|\n",
      "| 2627157|  627157 (2008 OX1)|              21.5|          0.1332155667|          0.2978790628|        Earth| 57853.2957426173| 2.727908074371355E7|        true|\n",
      "|54418652|          (2024 AF)|             23.76|          0.0470494961|          0.1052058716|        Earth| 19121.3349135938| 1.244444777054916E7|       false|\n",
      "| 2162635|162635 (2000 SS164)|             16.71|          1.2093582639|          2.7042072872|        Earth| 12703.7885715422|  6.95894324383464E7|       false|\n",
      "| 3559741|        (2011 EE41)|              24.3|          0.0366906138|          0.0820427065|        Earth|    67828.7858823|  7.13079538423054E7|       false|\n",
      "|54193347|         (2021 RA4)|             24.32|          0.0363542322|          0.0812905344|        Earth|  45162.155756983| 4.036684287328309E7|       false|\n",
      "|54245582|         (2022 CQ2)|              24.9|          0.0278326768|          0.0622357573|        Earth| 40238.0190573707| 1.067515810039739E7|       false|\n",
      "| 2277810| 277810 (2006 FV35)|             21.72|          0.1203801767|          0.2691782583|        Earth| 31504.1009261814| 4.350790895824819E7|       false|\n",
      "| 2284422|   284422 (2006 YD)|             17.36|          0.8965096664|          2.0046565566|        Earth| 99804.7390172065| 5.519529579388013E7|       false|\n",
      "| 2357439| 357439 (2004 BL86)|             19.29|          0.3685996993|          0.8242139842|        Earth| 59133.7765895422|   7266531.841719698|        true|\n",
      "+--------+-------------------+------------------+----------------------+----------------------+-------------+-----------------+--------------------+------------+\n",
      "only showing top 20 rows\n",
      "\n"
     ]
    }
   ],
   "source": [
    "neo.show()"
   ]
  },
  {
   "cell_type": "code",
   "execution_count": 17,
   "id": "2d2341cc",
   "metadata": {},
   "outputs": [
    {
     "name": "stdout",
     "output_type": "stream",
     "text": [
      "+-------+--------------------+--------------------+------------------+----------------------+----------------------+-------------+------------------+--------------------+\n",
      "|summary|              neo_id|                name|absolute_magnitude|estimated_diameter_min|estimated_diameter_max|orbiting_body| relative_velocity|       miss_distance|\n",
      "+-------+--------------------+--------------------+------------------+----------------------+----------------------+-------------+------------------+--------------------+\n",
      "|  count|              338199|              338199|            338171|                338171|                338171|       338199|            338199|              338199|\n",
      "|   mean|1.7599388682018574E7|                null| 22.93252495926504|   0.15781204666053292|    0.3528784640005324|         null| 51060.66290759541|4.1535350932190806E7|\n",
      "| stddev|2.2872246428931765E7|                null|2.9112163902923123|    0.3138851378796799|    0.7018685054244403|         null|26399.238434899267| 2.077399024610229E7|\n",
      "|    min|             2000433|           (1979 XB)|              9.25|           5.111578E-4|          0.0011429835|        Earth|      203.34643253|      6745.532515957|\n",
      "|    max|            54462807|99942 Apophis (20...|             33.58|         37.5452479361|         83.9537266171|        Earth| 291781.1066131202| 7.479865145219721E7|\n",
      "+-------+--------------------+--------------------+------------------+----------------------+----------------------+-------------+------------------+--------------------+\n",
      "\n"
     ]
    }
   ],
   "source": [
    "neo.describe().show()"
   ]
  },
  {
   "cell_type": "code",
   "execution_count": 18,
   "id": "b25c9246",
   "metadata": {},
   "outputs": [
    {
     "data": {
      "text/plain": [
       "338199"
      ]
     },
     "execution_count": 18,
     "metadata": {},
     "output_type": "execute_result"
    }
   ],
   "source": [
    "neo.count()"
   ]
  },
  {
   "cell_type": "code",
   "execution_count": 23,
   "id": "6201ef58",
   "metadata": {},
   "outputs": [
    {
     "name": "stdout",
     "output_type": "stream",
     "text": [
      "+--------+\n",
      "|  neo_id|\n",
      "+--------+\n",
      "|54342500|\n",
      "| 3753855|\n",
      "| 3843134|\n",
      "| 2523781|\n",
      "|54131590|\n",
      "| 3608092|\n",
      "|54123253|\n",
      "| 2286080|\n",
      "|54202331|\n",
      "| 3785785|\n",
      "| 3545630|\n",
      "|54117567|\n",
      "|54435206|\n",
      "| 3781455|\n",
      "| 3648469|\n",
      "|54122968|\n",
      "| 3581506|\n",
      "| 3076550|\n",
      "| 3601665|\n",
      "| 2086067|\n",
      "+--------+\n",
      "only showing top 20 rows\n",
      "\n"
     ]
    }
   ],
   "source": [
    "neo.select(\"neo_id\").distinct().show()"
   ]
  },
  {
   "cell_type": "code",
   "execution_count": 21,
   "id": "dde62c2f",
   "metadata": {},
   "outputs": [
    {
     "data": {
      "text/plain": [
       "33514"
      ]
     },
     "execution_count": 21,
     "metadata": {},
     "output_type": "execute_result"
    }
   ],
   "source": [
    "neo.select(\"name\").distinct().count()"
   ]
  },
  {
   "cell_type": "code",
   "execution_count": 30,
   "id": "d5faa0fb",
   "metadata": {},
   "outputs": [],
   "source": [
    "from pyspark.sql.functions import col, isnan, when, count"
   ]
  },
  {
   "cell_type": "code",
   "execution_count": 34,
   "id": "193703b4",
   "metadata": {},
   "outputs": [
    {
     "name": "stdout",
     "output_type": "stream",
     "text": [
      "+------------------+------------------+------------------+------------------+------------------+------------------+------------------+------------------+------------------+\n",
      "|absolute_magnitude|absolute_magnitude|absolute_magnitude|absolute_magnitude|absolute_magnitude|absolute_magnitude|absolute_magnitude|absolute_magnitude|absolute_magnitude|\n",
      "+------------------+------------------+------------------+------------------+------------------+------------------+------------------+------------------+------------------+\n",
      "|                28|                28|                28|                28|                28|                28|                28|                28|                28|\n",
      "+------------------+------------------+------------------+------------------+------------------+------------------+------------------+------------------+------------------+\n",
      "\n"
     ]
    }
   ],
   "source": [
    "null_counts = neo.select([count(when(col(\"absolute_magnitude\").isNull() | isnan(\"absolute_magnitude\"), absolute_magnitude)).alias(\"absolute_magnitude\") for absolute_magnitude in neo.columns])\n",
    "\n",
    "null_counts.show()"
   ]
  },
  {
   "cell_type": "code",
   "execution_count": 46,
   "id": "c5ce7eb2",
   "metadata": {},
   "outputs": [],
   "source": [
    "from pyspark.sql.types import DoubleType, StructField, StructType"
   ]
  },
  {
   "cell_type": "code",
   "execution_count": 48,
   "id": "c3885997",
   "metadata": {},
   "outputs": [
    {
     "ename": "NameError",
     "evalue": "name 'mean' is not defined",
     "output_type": "error",
     "traceback": [
      "\u001b[0;31m---------------------------------------------------------------------------\u001b[0m",
      "\u001b[0;31mNameError\u001b[0m                                 Traceback (most recent call last)",
      "\u001b[0;32m<ipython-input-48-937d4103ffdf>\u001b[0m in \u001b[0;36m<module>\u001b[0;34m\u001b[0m\n\u001b[0;32m----> 1\u001b[0;31m \u001b[0mmagnitude_mean_values\u001b[0m \u001b[0;34m=\u001b[0m \u001b[0mneo\u001b[0m\u001b[0;34m.\u001b[0m\u001b[0mselect\u001b[0m\u001b[0;34m(\u001b[0m\u001b[0;34m[\u001b[0m\u001b[0mmean\u001b[0m\u001b[0;34m(\u001b[0m\u001b[0;34m\"absolute_magnitude\"\u001b[0m\u001b[0;34m)\u001b[0m\u001b[0;34m.\u001b[0m\u001b[0malias\u001b[0m\u001b[0;34m(\u001b[0m\u001b[0;34m\"absolute_magnitude\"\u001b[0m\u001b[0;34m)\u001b[0m \u001b[0;32mfor\u001b[0m \u001b[0mabsolute_magnitude\u001b[0m \u001b[0;32min\u001b[0m \u001b[0mneo\u001b[0m\u001b[0;34m.\u001b[0m\u001b[0mcolumns\u001b[0m \u001b[0;32mif\u001b[0m \u001b[0mneo\u001b[0m\u001b[0;34m.\u001b[0m\u001b[0mschema\u001b[0m\u001b[0;34m[\u001b[0m\u001b[0;34m\"absolute_magnitude\"\u001b[0m\u001b[0;34m]\u001b[0m\u001b[0;34m.\u001b[0m\u001b[0mdataType\u001b[0m \u001b[0;34m==\u001b[0m \u001b[0mDoubleType\u001b[0m\u001b[0;34m(\u001b[0m\u001b[0;34m)\u001b[0m\u001b[0;34m]\u001b[0m\u001b[0;34m)\u001b[0m\u001b[0;34m\u001b[0m\u001b[0;34m\u001b[0m\u001b[0m\n\u001b[0m\u001b[1;32m      2\u001b[0m \u001b[0mmagnitude_mean_values\u001b[0m\u001b[0;34m.\u001b[0m\u001b[0mshow\u001b[0m\u001b[0;34m(\u001b[0m\u001b[0;34m)\u001b[0m\u001b[0;34m\u001b[0m\u001b[0;34m\u001b[0m\u001b[0m\n",
      "\u001b[0;32m<ipython-input-48-937d4103ffdf>\u001b[0m in \u001b[0;36m<listcomp>\u001b[0;34m(.0)\u001b[0m\n\u001b[0;32m----> 1\u001b[0;31m \u001b[0mmagnitude_mean_values\u001b[0m \u001b[0;34m=\u001b[0m \u001b[0mneo\u001b[0m\u001b[0;34m.\u001b[0m\u001b[0mselect\u001b[0m\u001b[0;34m(\u001b[0m\u001b[0;34m[\u001b[0m\u001b[0mmean\u001b[0m\u001b[0;34m(\u001b[0m\u001b[0;34m\"absolute_magnitude\"\u001b[0m\u001b[0;34m)\u001b[0m\u001b[0;34m.\u001b[0m\u001b[0malias\u001b[0m\u001b[0;34m(\u001b[0m\u001b[0;34m\"absolute_magnitude\"\u001b[0m\u001b[0;34m)\u001b[0m \u001b[0;32mfor\u001b[0m \u001b[0mabsolute_magnitude\u001b[0m \u001b[0;32min\u001b[0m \u001b[0mneo\u001b[0m\u001b[0;34m.\u001b[0m\u001b[0mcolumns\u001b[0m \u001b[0;32mif\u001b[0m \u001b[0mneo\u001b[0m\u001b[0;34m.\u001b[0m\u001b[0mschema\u001b[0m\u001b[0;34m[\u001b[0m\u001b[0;34m\"absolute_magnitude\"\u001b[0m\u001b[0;34m]\u001b[0m\u001b[0;34m.\u001b[0m\u001b[0mdataType\u001b[0m \u001b[0;34m==\u001b[0m \u001b[0mDoubleType\u001b[0m\u001b[0;34m(\u001b[0m\u001b[0;34m)\u001b[0m\u001b[0;34m]\u001b[0m\u001b[0;34m)\u001b[0m\u001b[0;34m\u001b[0m\u001b[0;34m\u001b[0m\u001b[0m\n\u001b[0m\u001b[1;32m      2\u001b[0m \u001b[0mmagnitude_mean_values\u001b[0m\u001b[0;34m.\u001b[0m\u001b[0mshow\u001b[0m\u001b[0;34m(\u001b[0m\u001b[0;34m)\u001b[0m\u001b[0;34m\u001b[0m\u001b[0;34m\u001b[0m\u001b[0m\n",
      "\u001b[0;31mNameError\u001b[0m: name 'mean' is not defined"
     ]
    }
   ],
   "source": [
    "magnitude_mean_values = neo.select([mean(\"absolute_magnitude\").alias(\"absolute_magnitude\") for absolute_magnitude in neo.columns if neo.schema[\"absolute_magnitude\"].dataType == DoubleType()])\n",
    "magnitude_mean_values.show()"
   ]
  },
  {
   "cell_type": "code",
   "execution_count": null,
   "id": "e349de37",
   "metadata": {},
   "outputs": [],
   "source": []
  },
  {
   "cell_type": "code",
   "execution_count": null,
   "id": "fd313ebc",
   "metadata": {},
   "outputs": [],
   "source": []
  }
 ],
 "metadata": {
  "kernelspec": {
   "display_name": "Python 3",
   "language": "python",
   "name": "python3"
  },
  "language_info": {
   "codemirror_mode": {
    "name": "ipython",
    "version": 3
   },
   "file_extension": ".py",
   "mimetype": "text/x-python",
   "name": "python",
   "nbconvert_exporter": "python",
   "pygments_lexer": "ipython3",
   "version": "3.6.9"
  }
 },
 "nbformat": 4,
 "nbformat_minor": 5
}
